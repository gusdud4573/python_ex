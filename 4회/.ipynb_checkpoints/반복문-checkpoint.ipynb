{
 "cells": [
  {
   "cell_type": "markdown",
   "metadata": {},
   "source": [
    "# 반복군\n",
    "## 1. while 문\n",
    "### 2. for문\n",
    "-------------------------"
   ]
  },
  {
   "cell_type": "markdown",
   "metadata": {},
   "source": [
    "# 문제"
   ]
  },
  {
   "cell_type": "code",
   "execution_count": 2,
   "metadata": {},
   "outputs": [
    {
     "name": "stdout",
     "output_type": "stream",
     "text": [
      "sum : 39502671\n"
     ]
    }
   ],
   "source": [
    "a = 10\n",
    "sum = 0\n",
    "while a <= 8888  :\n",
    "    sum += a\n",
    "    a += 1\n",
    "print('sum :', sum)"
   ]
  },
  {
   "cell_type": "markdown",
   "metadata": {},
   "source": [
    "# break문"
   ]
  },
  {
   "cell_type": "code",
   "execution_count": 3,
   "metadata": {},
   "outputs": [
    {
     "name": "stdout",
     "output_type": "stream",
     "text": [
      "번호를 입력하세요. 종료 시 1번 입력3\n",
      "프로그램이 실행 중\n",
      "번호를 입력하세요. 종료 시 1번 입력1\n",
      "프로그램이 실행 중\n",
      "1번 입력하셨습니다. 프로그램 종료합니다.\n"
     ]
    }
   ],
   "source": [
    "while True:\n",
    "    num = int(input(\"번호를 입력하세요. 종료 시 1번 입력\"))\n",
    "    print(\"프로그램이 실행 중\")\n",
    "    \n",
    "    if num==1:\n",
    "        print(\"1번 입력하셨습니다. 프로그램 종료합니다.\")\n",
    "        break"
   ]
  },
  {
   "cell_type": "code",
   "execution_count": 4,
   "metadata": {},
   "outputs": [
    {
     "name": "stdout",
     "output_type": "stream",
     "text": [
      "아이디 : 정현영\n",
      "비밀번호 : 1234\n",
      "로그인 되셨습니다.\n"
     ]
    }
   ],
   "source": [
    "while True:\n",
    "    id_id = input(\"아이디 : \")\n",
    "    password = input(\"비밀번호 : \")\n",
    "    \n",
    "    if (id_id=='정현영') and (password == '1234'):\n",
    "        print(\"로그인 되셨습니다.\")\n",
    "        break\n",
    "        \n",
    "    else :\n",
    "        print(\"아이디/비밀번호를 확인해주세요 -> 고객센터응답114\")"
   ]
  },
  {
   "cell_type": "markdown",
   "metadata": {},
   "source": [
    "#  continue문"
   ]
  },
  {
   "cell_type": "code",
   "execution_count": null,
   "metadata": {},
   "outputs": [],
   "source": [
    "while True:\n",
    "    id_id = input(\"아이디 : \")\n",
    "    password = input(\"비밀번호 : \")\n",
    "    \n",
    "    if(id_id == '김건희') and (password=='1234'):\n",
    "        continue\n",
    "        print(\"로그인 되셨습니다.\")\n",
    "    elif id_id == '종료':\n",
    "        break\n",
    "    else:\n",
    "        print(\"아이디/비밀번호를 확인해주세요 -> 고객센터응답 114\")"
   ]
  },
  {
   "cell_type": "markdown",
   "metadata": {},
   "source": [
    "## 문제\n",
    "구구단을 출력하시오"
   ]
  },
  {
   "cell_type": "code",
   "execution_count": 2,
   "metadata": {
    "scrolled": true
   },
   "outputs": [
    {
     "name": "stdout",
     "output_type": "stream",
     "text": [
      "단을 입력하세요2\n",
      "2 4 6 8 10 12 14 16 18 20 \n",
      "3 6 9 12 15 18 21 24 27 30 \n",
      "4 8 12 16 20 24 28 32 36 40 \n",
      "5 10 15 20 25 30 35 40 45 50 \n",
      "6 12 18 24 30 36 42 48 54 60 \n",
      "7 14 21 28 35 42 49 56 63 70 \n",
      "8 16 24 32 40 48 56 64 72 80 \n",
      "9 18 27 36 45 54 63 72 81 90 \n"
     ]
    }
   ],
   "source": [
    "n=1\n",
    "dan = int(input(\"단을 입력하세요\"))\n",
    "while dan<=9:\n",
    "    n=1\n",
    "    while n<=10:\n",
    "        print(\"{}\".format(dan*n),end=' ')\n",
    "        n+=1 #n=n+1\n",
    "    dan+=1\n",
    "    print('')"
   ]
  },
  {
   "cell_type": "code",
   "execution_count": 5,
   "metadata": {},
   "outputs": [
    {
     "name": "stdout",
     "output_type": "stream",
     "text": [
      "근무 시간을 입력하세요20\n",
      "시간당 수당을 입력하세요40000\n",
      "416000.0\n"
     ]
    }
   ],
   "source": [
    "work_hour=int(input(\"근무 시간을 입력하세요\"))\n",
    "work_pay=int(input(\"시간당 수당을 입력하세요\"))\n",
    "bonus_pay=(work_hour-12)*(work_pay*0.3)\n",
    "total=work_hour*work_pay+bonus_pay\n",
    "if work_hour<12:\n",
    "    then bonus_pay=0\n",
    "    \n",
    "    \n",
    "print(\"총 급여는\", total, '원 입니다.')"
   ]
  },
  {
   "cell_type": "code",
   "execution_count": null,
   "metadata": {
    "collapsed": true
   },
   "outputs": [],
   "source": []
  }
 ],
 "metadata": {
  "kernelspec": {
   "display_name": "Python 3",
   "language": "python",
   "name": "python3"
  },
  "language_info": {
   "codemirror_mode": {
    "name": "ipython",
    "version": 3
   },
   "file_extension": ".py",
   "mimetype": "text/x-python",
   "name": "python",
   "nbconvert_exporter": "python",
   "pygments_lexer": "ipython3",
   "version": "3.6.3"
  }
 },
 "nbformat": 4,
 "nbformat_minor": 2
}
