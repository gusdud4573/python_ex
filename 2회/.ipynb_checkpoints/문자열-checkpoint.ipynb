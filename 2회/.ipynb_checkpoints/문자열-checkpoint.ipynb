{
 "cells": [
  {
   "cell_type": "code",
   "execution_count": 1,
   "metadata": {
    "collapsed": true
   },
   "outputs": [],
   "source": [
    "s='Python is great!'"
   ]
  },
  {
   "cell_type": "code",
   "execution_count": 2,
   "metadata": {},
   "outputs": [
    {
     "name": "stdout",
     "output_type": "stream",
     "text": [
      "난 말했다. '하하하'\n"
     ]
    }
   ],
   "source": [
    "print(\"난 말했다. '하하하'\")"
   ]
  },
  {
   "cell_type": "markdown",
   "metadata": {},
   "source": [
    "### 홑따옴표 또는 쌍따옴표 세 개 사용하기"
   ]
  },
  {
   "cell_type": "code",
   "execution_count": 3,
   "metadata": {
    "collapsed": true
   },
   "outputs": [],
   "source": [
    "hello=\"hello world!\""
   ]
  },
  {
   "cell_type": "code",
   "execution_count": 4,
   "metadata": {},
   "outputs": [
    {
     "data": {
      "text/plain": [
       "'e'"
      ]
     },
     "execution_count": 4,
     "metadata": {},
     "output_type": "execute_result"
    }
   ],
   "source": [
    "hello[1]"
   ]
  },
  {
   "cell_type": "code",
   "execution_count": 5,
   "metadata": {
    "collapsed": true
   },
   "outputs": [],
   "source": [
    "lang='python programming'"
   ]
  },
  {
   "cell_type": "code",
   "execution_count": 7,
   "metadata": {},
   "outputs": [
    {
     "data": {
      "text/plain": [
       "'hon pro'"
      ]
     },
     "execution_count": 7,
     "metadata": {},
     "output_type": "execute_result"
    }
   ],
   "source": [
    "lang[3:10]"
   ]
  },
  {
   "cell_type": "code",
   "execution_count": 10,
   "metadata": {
    "collapsed": true
   },
   "outputs": [],
   "source": [
    "a='hello'\n",
    "b=' world'"
   ]
  },
  {
   "cell_type": "code",
   "execution_count": 11,
   "metadata": {},
   "outputs": [
    {
     "data": {
      "text/plain": [
       "'hello world'"
      ]
     },
     "execution_count": 11,
     "metadata": {},
     "output_type": "execute_result"
    }
   ],
   "source": [
    "a+b"
   ]
  },
  {
   "cell_type": "code",
   "execution_count": 12,
   "metadata": {
    "collapsed": true
   },
   "outputs": [],
   "source": [
    "name='Jung Hyeon Young'"
   ]
  },
  {
   "cell_type": "code",
   "execution_count": 13,
   "metadata": {},
   "outputs": [
    {
     "data": {
      "text/plain": [
       "'JUNG HYEON YOUNG'"
      ]
     },
     "execution_count": 13,
     "metadata": {},
     "output_type": "execute_result"
    }
   ],
   "source": [
    "name.upper()"
   ]
  },
  {
   "cell_type": "code",
   "execution_count": 14,
   "metadata": {},
   "outputs": [
    {
     "data": {
      "text/plain": [
       "'jung hyeon young'"
      ]
     },
     "execution_count": 14,
     "metadata": {},
     "output_type": "execute_result"
    }
   ],
   "source": [
    "name.lower()"
   ]
  },
  {
   "cell_type": "code",
   "execution_count": 15,
   "metadata": {},
   "outputs": [
    {
     "data": {
      "text/plain": [
       "False"
      ]
     },
     "execution_count": 15,
     "metadata": {},
     "output_type": "execute_result"
    }
   ],
   "source": [
    "name.isupper()"
   ]
  },
  {
   "cell_type": "markdown",
   "metadata": {},
   "source": [
    "### 입출력문"
   ]
  },
  {
   "cell_type": "code",
   "execution_count": 16,
   "metadata": {
    "collapsed": true
   },
   "outputs": [],
   "source": [
    "math_score=77\n",
    "science_score=88\n",
    "english_score=99"
   ]
  },
  {
   "cell_type": "code",
   "execution_count": 17,
   "metadata": {},
   "outputs": [
    {
     "name": "stdout",
     "output_type": "stream",
     "text": [
      "77 88 99\n"
     ]
    }
   ],
   "source": [
    "print(math_score, science_score, english_score)"
   ]
  },
  {
   "cell_type": "code",
   "execution_count": 18,
   "metadata": {},
   "outputs": [
    {
     "name": "stdout",
     "output_type": "stream",
     "text": [
      "내 수학점수는 :  77\n"
     ]
    }
   ],
   "source": [
    "print(\"내 수학점수는 : \", math_score)"
   ]
  },
  {
   "cell_type": "code",
   "execution_count": 20,
   "metadata": {},
   "outputs": [
    {
     "name": "stdout",
     "output_type": "stream",
     "text": [
      "내 영어점수는 :  99\n"
     ]
    }
   ],
   "source": [
    "print(\"내 영어점수는 : \", english_score)"
   ]
  },
  {
   "cell_type": "code",
   "execution_count": 21,
   "metadata": {},
   "outputs": [
    {
     "name": "stdout",
     "output_type": "stream",
     "text": [
      "내 과학점수는 :  88\n"
     ]
    }
   ],
   "source": [
    "print(\"내 과학점수는 : \", science_score)"
   ]
  },
  {
   "cell_type": "code",
   "execution_count": 25,
   "metadata": {},
   "outputs": [
    {
     "name": "stdout",
     "output_type": "stream",
     "text": [
      "내 수학점수는 : 99, 과학점수는99, 영어점수는99이다.\n"
     ]
    }
   ],
   "source": [
    "print(\"내 수학점수는 : {2}, 과학점수는{2}, 영어점수는{2}이다.\"\n",
    "    .format(math_score, science_score, english_score))"
   ]
  },
  {
   "cell_type": "code",
   "execution_count": 26,
   "metadata": {
    "collapsed": true
   },
   "outputs": [],
   "source": [
    "print?"
   ]
  },
  {
   "cell_type": "code",
   "execution_count": 28,
   "metadata": {},
   "outputs": [
    {
     "name": "stdout",
     "output_type": "stream",
     "text": [
      "a\n",
      "\n",
      "n\n"
     ]
    }
   ],
   "source": [
    "print('a', end='\\n\\n')\n",
    "print('n')"
   ]
  },
  {
   "cell_type": "code",
   "execution_count": 29,
   "metadata": {},
   "outputs": [
    {
     "name": "stdout",
     "output_type": "stream",
     "text": [
      "hello\n"
     ]
    },
    {
     "data": {
      "text/plain": [
       "'hello'"
      ]
     },
     "execution_count": 29,
     "metadata": {},
     "output_type": "execute_result"
    }
   ],
   "source": [
    "input()"
   ]
  },
  {
   "cell_type": "code",
   "execution_count": 30,
   "metadata": {},
   "outputs": [
    {
     "name": "stdout",
     "output_type": "stream",
     "text": [
      "정현영\n"
     ]
    }
   ],
   "source": [
    "name=input()"
   ]
  },
  {
   "cell_type": "code",
   "execution_count": 31,
   "metadata": {},
   "outputs": [
    {
     "name": "stdout",
     "output_type": "stream",
     "text": [
      "정현영\n"
     ]
    }
   ],
   "source": [
    "print(name)"
   ]
  },
  {
   "cell_type": "code",
   "execution_count": 32,
   "metadata": {},
   "outputs": [
    {
     "name": "stdout",
     "output_type": "stream",
     "text": [
      "이름을 입력하세요 : 정현영\n"
     ]
    },
    {
     "data": {
      "text/plain": [
       "'정현영'"
      ]
     },
     "execution_count": 32,
     "metadata": {},
     "output_type": "execute_result"
    }
   ],
   "source": [
    "input(\"이름을 입력하세요 : \")"
   ]
  },
  {
   "cell_type": "code",
   "execution_count": 33,
   "metadata": {},
   "outputs": [
    {
     "name": "stdout",
     "output_type": "stream",
     "text": [
      "이름을 입력하세요 : 정현영\n",
      "전화번호를 입력하세요 : 01038984573\n",
      "주소를 입력하세요 : 월곡\n",
      "이름 : 정현영\n",
      "전화번호 : 01038984573\n",
      "주소 : 월곡\n"
     ]
    }
   ],
   "source": [
    "name=input(\"이름을 입력하세요 : \")\n",
    "phone=input(\"전화번호를 입력하세요 : \")\n",
    "add=input(\"주소를 입력하세요 : \")\n",
    "\n",
    "print(\"이름 : {}\\n전화번호 : {}\\n주소 : {}\".format(name,phone,add))"
   ]
  },
  {
   "cell_type": "code",
   "execution_count": 78,
   "metadata": {},
   "outputs": [
    {
     "name": "stdout",
     "output_type": "stream",
     "text": [
      "국어 성적을 입력하세요 : 3\n",
      "수학 성적을 입력하세요 : 4\n",
      "영어 성적을 입력하세요 : 5\n",
      "\n",
      "입력받은 성적\n",
      "``````````````\n",
      "국어 성적 : 3\n",
      "수학 성적 : 4\n",
      "영어 성적 : 5\n",
      "``````````````\n",
      "총점 : 12\n",
      "평균 : 4.00\n"
     ]
    }
   ],
   "source": [
    "k_score=int(input(\"국어 성적을 입력하세요 : \"))\n",
    "m_score=int(input(\"수학 성적을 입력하세요 : \"))\n",
    "e_score=int(input(\"영어 성적을 입력하세요 : \"))\n",
    "total=k_score+m_score+e_score\n",
    "mean=total/3\n",
    "print(\"\\n입력받은 성적\")\n",
    "print(\"``````````````\")\n",
    "print(\"국어 성적 : {}\\n수학 성적 : {}\\n영어 성적 : {}\".format(k_score,m_score,e_score))\n",
    "print(\"``````````````\")\n",
    "print(\"총점 : {}\".format(total))\n",
    "print(\"평균 : \"+\"{0:.2f}\".format(mean))"
   ]
  },
  {
   "cell_type": "code",
   "execution_count": 84,
   "metadata": {},
   "outputs": [
    {
     "name": "stdout",
     "output_type": "stream",
     "text": [
      "반지름을 입력하세요 : 5\n",
      "반지름 : 5\n",
      "원의 넓이 : 78.540\n",
      "원의 둘레 : 31.416\n"
     ]
    }
   ],
   "source": [
    "radius=int(input(\"반지름을 입력하세요 : \"))\n",
    "s=3.141592*pow(radius,2)\n",
    "l=2*3.141592*radius\n",
    "print(\"반지름 : {}\".format(radius))\n",
    "print(\"원의 넓이 : \"+\"{0:.3f}\".format(s))\n",
    "print(\"원의 둘레 : \"+\"{0:.3f}\".format(l))"
   ]
  },
  {
   "cell_type": "code",
   "execution_count": 85,
   "metadata": {},
   "outputs": [
    {
     "name": "stdout",
     "output_type": "stream",
     "text": [
      "다섯 자리 숫자를 입력하시오 : 12345\n",
      "1,2,3,4,5\n",
      "끝내려면 엔터를 누르세요\n"
     ]
    },
    {
     "data": {
      "text/plain": [
       "''"
      ]
     },
     "execution_count": 85,
     "metadata": {},
     "output_type": "execute_result"
    }
   ],
   "source": [
    "num=(input(\"다섯 자리 숫자를 입력하시오 : \"))\n",
    "print(num[0]+\",\"+num[1]+\",\"+num[2]+\",\"+num[3]+\",\"+num[4])\n",
    "input(\"끝내려면 엔터를 누르세요\")"
   ]
  },
  {
   "cell_type": "code",
   "execution_count": null,
   "metadata": {
    "collapsed": true
   },
   "outputs": [],
   "source": []
  }
 ],
 "metadata": {
  "kernelspec": {
   "display_name": "Python 3",
   "language": "python",
   "name": "python3"
  },
  "language_info": {
   "codemirror_mode": {
    "name": "ipython",
    "version": 3
   },
   "file_extension": ".py",
   "mimetype": "text/x-python",
   "name": "python",
   "nbconvert_exporter": "python",
   "pygments_lexer": "ipython3",
   "version": "3.6.3"
  }
 },
 "nbformat": 4,
 "nbformat_minor": 2
}
