{
 "cells": [
  {
   "cell_type": "markdown",
   "metadata": {},
   "source": [
    "큰제목입니다.\n",
    "====="
   ]
  },
  {
   "cell_type": "markdown",
   "metadata": {},
   "source": [
    "작은제목입니다\n",
    "---------"
   ]
  },
  {
   "cell_type": "markdown",
   "metadata": {},
   "source": [
    "# 한개입니다"
   ]
  },
  {
   "cell_type": "markdown",
   "metadata": {},
   "source": [
    "## 두개입니다"
   ]
  },
  {
   "cell_type": "markdown",
   "metadata": {},
   "source": [
    "> 아인슈타인은 말했다.\n",
    "F=ma"
   ]
  },
  {
   "cell_type": "markdown",
   "metadata": {},
   "source": [
    "안녕하세요.  \n",
    "정현영입니다.  \n",
    "배가 고프네요"
   ]
  },
  {
   "cell_type": "markdown",
   "metadata": {},
   "source": [
    "#  2.마크다운사용법(문법)"
   ]
  },
  {
   "cell_type": "markdown",
   "metadata": {},
   "source": [
    "## 2.1. 헤더(Headers)"
   ]
  },
  {
   "cell_type": "markdown",
   "metadata": {},
   "source": [
    "* 큰제목 : 문서제목  "
   ]
  },
  {
   "cell_type": "markdown",
   "metadata": {},
   "source": [
    "This is an H1 \n",
    "========="
   ]
  },
  {
   "cell_type": "markdown",
   "metadata": {},
   "source": [
    "This is an H1\n",
    "========"
   ]
  },
  {
   "cell_type": "markdown",
   "metadata": {},
   "source": [
    "* 작은제목 : 문서 부제목"
   ]
  },
  {
   "cell_type": "markdown",
   "metadata": {},
   "source": [
    "This is an H2\n",
    "-----------"
   ]
  },
  {
   "cell_type": "markdown",
   "metadata": {},
   "source": [
    "* 글머리 : 1~6까지만 지원"
   ]
  },
  {
   "cell_type": "markdown",
   "metadata": {},
   "source": [
    "# This is a H1\n",
    "## This is a H2\n",
    "### This is a H3\n",
    "#### This is a H4\n",
    "##### This is a H5\n",
    "###### This is a H6\n",
    "####### This is a 7."
   ]
  },
  {
   "cell_type": "markdown",
   "metadata": {},
   "source": [
    "## 2.2 BlockQuote"
   ]
  },
  {
   "cell_type": "markdown",
   "metadata": {},
   "source": [
    "이메일에서 사용하는 > 블럭인용문자를 이용한다."
   ]
  },
  {
   "cell_type": "markdown",
   "metadata": {},
   "source": [
    "> This is a blockqute."
   ]
  },
  {
   "cell_type": "markdown",
   "metadata": {},
   "source": [
    ">This is a first blockqute  \n",
    ">>This is a second blockqute  \n",
    ">>>This is a third blockqute"
   ]
  },
  {
   "cell_type": "markdown",
   "metadata": {},
   "source": [
    "이 안에서는 다른 마크다운 요소를 포함할 수 있다."
   ]
  },
  {
   "cell_type": "markdown",
   "metadata": {},
   "source": [
    "> This is a H3\n",
    "* List"
   ]
  },
  {
   "cell_type": "markdown",
   "metadata": {},
   "source": [
    "## 2.3 목록\n",
    "------"
   ]
  },
  {
   "cell_type": "markdown",
   "metadata": {},
   "source": [
    "- 순서있는목록(번호)"
   ]
  },
  {
   "cell_type": "markdown",
   "metadata": {},
   "source": [
    "순서있는 목록은 숫자와 점을 사용한다"
   ]
  },
  {
   "cell_type": "markdown",
   "metadata": {},
   "source": [
    "1. 첫번째\n",
    "2. 두번째\n",
    "3. 세번째"
   ]
  },
  {
   "cell_type": "markdown",
   "metadata": {},
   "source": [
    "- 순서없는 목록(글머리 기호)  \n",
    "*, +, - 사용"
   ]
  },
  {
   "cell_type": "markdown",
   "metadata": {},
   "source": [
    "[네이버](https://www.naver.com/)"
   ]
  },
  {
   "cell_type": "markdown",
   "metadata": {},
   "source": []
  }
 ],
 "metadata": {
  "kernelspec": {
   "display_name": "Python 3",
   "language": "python",
   "name": "python3"
  },
  "language_info": {
   "codemirror_mode": {
    "name": "ipython",
    "version": 3
   },
   "file_extension": ".py",
   "mimetype": "text/x-python",
   "name": "python",
   "nbconvert_exporter": "python",
   "pygments_lexer": "ipython3",
   "version": "3.6.3"
  }
 },
 "nbformat": 4,
 "nbformat_minor": 2
}
